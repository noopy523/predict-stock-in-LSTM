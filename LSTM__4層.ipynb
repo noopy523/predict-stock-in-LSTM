{
 "cells": [
  {
   "cell_type": "markdown",
   "id": "0f7b644c",
   "metadata": {},
   "source": [
    "導入套件"
   ]
  },
  {
   "cell_type": "code",
   "execution_count": 4,
   "id": "1dc75b81",
   "metadata": {},
   "outputs": [],
   "source": [
    "import numpy as np\n",
    "import matplotlib.pyplot as plt  \n",
    "import pandas as pd\n",
    "%matplotlib inline"
   ]
  },
  {
   "cell_type": "markdown",
   "id": "ff81e170",
   "metadata": {},
   "source": [
    "載入資料_訓練集：2014 年 ~ 2018 年的 TSMC（共 1231 天）"
   ]
  },
  {
   "cell_type": "code",
   "execution_count": 5,
   "id": "a4c02cf3",
   "metadata": {},
   "outputs": [
    {
     "data": {
      "text/plain": [
       "array([[8612.540039],\n",
       "       [8546.540039],\n",
       "       [8500.009766],\n",
       "       ...,\n",
       "       [9478.990234],\n",
       "       [9641.55957 ],\n",
       "       [9727.410156]])"
      ]
     },
     "execution_count": 5,
     "metadata": {},
     "output_type": "execute_result"
    }
   ],
   "source": [
    "dataset_train = pd.read_csv(\"台指數/台灣加權指數2014-2018.csv\")\n",
    "\n",
    "#將資料顯示為(資料長度,1) 等同reshape(-1,1)\n",
    "training_set = dataset_train.iloc[: ,4:5].values\n",
    "#training_set = dataset_train.iloc[: ,1:2].values\n",
    "training_set"
   ]
  },
  {
   "cell_type": "code",
   "execution_count": 6,
   "id": "1120d96a",
   "metadata": {},
   "outputs": [],
   "source": [
    "# Feature Scaling\n",
    "from sklearn.preprocessing import MinMaxScaler\n",
    "\n",
    "#做 Normalization，將資料壓縮在 [0,1] 之間\n",
    "sc = MinMaxScaler(feature_range = (0, 1))\n",
    "training_set_scaled = sc.fit_transform(training_set)"
   ]
  },
  {
   "cell_type": "code",
   "execution_count": 7,
   "id": "d16273fb",
   "metadata": {},
   "outputs": [
    {
     "name": "stdout",
     "output_type": "stream",
     "text": [
      "[[0.31284725 0.29567214 0.28356362 ... 0.38907094 0.38467043 0.38152176]\n",
      " [0.29567214 0.28356362 0.28676185 ... 0.38467043 0.38152176 0.38459496]\n",
      " [0.28356362 0.28676185 0.29813644 ... 0.38152176 0.38459496 0.39560793]\n",
      " ...\n",
      " [0.91321874 0.89872673 0.86098566 ... 0.58976462 0.58014403 0.55083956]\n",
      " [0.89872673 0.86098566 0.80847406 ... 0.58014403 0.55083956 0.53832265]\n",
      " [0.86098566 0.80847406 0.79255054 ... 0.55083956 0.53832265 0.58062789]] [0.38459496 0.39560793 0.40016956 ... 0.53832265 0.58062789 0.60296869]\n"
     ]
    }
   ],
   "source": [
    "X_train = []   #預測點的前 60 天的資料\n",
    "y_train = []   #預測點\n",
    "for i in range(60, 1231):  # 1231 是訓練集總數 / 2014~2018總天數\n",
    "    X_train.append(training_set_scaled[i-60:i, 0])\n",
    "    y_train.append(training_set_scaled[i, 0])\n",
    "X_train, y_train = np.array(X_train), np.array(y_train)  # 轉成numpy array的格式，以利輸入 RNN\n",
    "print(X_train, y_train)"
   ]
  },
  {
   "cell_type": "markdown",
   "id": "224a9eb2",
   "metadata": {},
   "source": [
    "因為現在 X_train 是 2-dimension，將它 reshape 成 3-dimension: [stock prices, timesteps, indicators]"
   ]
  },
  {
   "cell_type": "code",
   "execution_count": 8,
   "id": "d482a168",
   "metadata": {},
   "outputs": [],
   "source": [
    "X_train = np.reshape(X_train, (X_train.shape[0], X_train.shape[1], 1))"
   ]
  },
  {
   "cell_type": "code",
   "execution_count": 9,
   "id": "2c9cd4f0",
   "metadata": {},
   "outputs": [],
   "source": [
    "# Import the Keras libraries and packages\n",
    "from tensorflow import keras\n",
    "from tensorflow.keras.models import Sequential\n",
    "from tensorflow.keras.layers import Dense \n",
    "from tensorflow.keras.layers import LSTM\n",
    "from tensorflow.keras.layers import Dropout,BatchNormalization\n",
    "\n",
    "# Initialising the RNN\n",
    "keras.backend.clear_session()\n",
    "regressor = Sequential()"
   ]
  },
  {
   "cell_type": "markdown",
   "id": "d97e5b7e",
   "metadata": {},
   "source": [
    "# 搭建 LSTM layer:"
   ]
  },
  {
   "cell_type": "markdown",
   "id": "6a8eb2d6",
   "metadata": {},
   "source": [
    "units: 神經元的數目 (setting 50)"
   ]
  },
  {
   "cell_type": "markdown",
   "id": "e4abd848",
   "metadata": {},
   "source": [
    "第一層的 LSTM Layer 記得要設定input_shape參數"
   ]
  },
  {
   "cell_type": "code",
   "execution_count": 10,
   "id": "8d98bfd7",
   "metadata": {},
   "outputs": [
    {
     "name": "stdout",
     "output_type": "stream",
     "text": [
      "(60, 1)\n"
     ]
    }
   ],
   "source": [
    "input_shape = (X_train.shape[1], 1)\n",
    "print(input_shape)"
   ]
  },
  {
   "cell_type": "markdown",
   "id": "c6096ef9",
   "metadata": {},
   "source": [
    "搭配使用dropout，這裡設為 0.2(Float between 0 and 1)"
   ]
  },
  {
   "cell_type": "markdown",
   "id": "914d76a1",
   "metadata": {},
   "source": [
    "由於這邊的第四層 LSTM Layer 即將跟 Ouput Layer 做連接，因此注意這邊的 return_sequences 設為預設值 False （也就是不用寫上 return_sequences）"
   ]
  },
  {
   "cell_type": "markdown",
   "id": "c8b85916",
   "metadata": {},
   "source": [
    "用了 4層 LSTM"
   ]
  },
  {
   "cell_type": "code",
   "execution_count": 11,
   "id": "81b2a93e",
   "metadata": {},
   "outputs": [
    {
     "name": "stdout",
     "output_type": "stream",
     "text": [
      "WARNING:tensorflow:Layer lstm will not use cuDNN kernel since it doesn't meet the cuDNN kernel criteria. It will use generic GPU kernel as fallback when running on GPU\n",
      "WARNING:tensorflow:Layer lstm_1 will not use cuDNN kernel since it doesn't meet the cuDNN kernel criteria. It will use generic GPU kernel as fallback when running on GPU\n",
      "WARNING:tensorflow:Layer lstm_2 will not use cuDNN kernel since it doesn't meet the cuDNN kernel criteria. It will use generic GPU kernel as fallback when running on GPU\n",
      "WARNING:tensorflow:Layer lstm_3 will not use cuDNN kernel since it doesn't meet the cuDNN kernel criteria. It will use generic GPU kernel as fallback when running on GPU\n"
     ]
    }
   ],
   "source": [
    "# Adding the first LSTM layer and some Dropout regularisation,activation use relu functio\n",
    "regressor.add(LSTM(units = 50,activation=\"relu\", return_sequences = True, input_shape = (X_train.shape[1], 1)))\n",
    "regressor.add(Dropout(0.2))\n",
    "\n",
    "# Adding a second LSTM layer and some Dropout regularisation\n",
    "regressor.add(LSTM(units = 50,activation=\"relu\", return_sequences = True))\n",
    "regressor.add(Dropout(0.2))\n",
    "\n",
    "# Adding a third LSTM layer and some Dropout regularisation\n",
    "regressor.add(LSTM(units = 50, activation=\"relu\",return_sequences = True))\n",
    "regressor.add(Dropout(0.2))\n",
    "\n",
    "# Adding a fourth LSTM layer and some Dropout regularisation\n",
    "regressor.add(LSTM(units = 50, activation=\"relu\"))\n",
    "regressor.add(Dropout(0.2))"
   ]
  },
  {
   "cell_type": "code",
   "execution_count": 12,
   "id": "edfa68f3",
   "metadata": {},
   "outputs": [],
   "source": [
    "# Adding the output layer setting 1\n",
    "regressor.add(Dense(units = 1))"
   ]
  },
  {
   "cell_type": "markdown",
   "id": "75fa9f8b",
   "metadata": {},
   "source": [
    "# Compiling & Fitting LSTM model\n",
    "optimizer: 選擇 Adam \\\\\\\n",
    "loss: 使用 MSE \\\\\\\n",
    "learning rate(lr) :0.001 \\\\\\\n",
    "epochs :100 \\\\\\\n",
    "batch size:16"
   ]
  },
  {
   "cell_type": "code",
   "execution_count": null,
   "id": "e605e681",
   "metadata": {},
   "outputs": [
    {
     "name": "stdout",
     "output_type": "stream",
     "text": [
      "Epoch 1/100\n",
      "74/74 [==============================] - 18s 247ms/step - loss: nan\n",
      "Epoch 2/100\n",
      "74/74 [==============================] - 19s 258ms/step - loss: nan\n",
      "Epoch 3/100\n",
      "74/74 [==============================] - 19s 262ms/step - loss: nan\n",
      "Epoch 4/100\n",
      "74/74 [==============================] - 19s 258ms/step - loss: nan\n",
      "Epoch 5/100\n",
      "74/74 [==============================] - 19s 257ms/step - loss: nan\n",
      "Epoch 6/100\n",
      "74/74 [==============================] - 19s 262ms/step - loss: nan\n",
      "Epoch 7/100\n",
      "74/74 [==============================] - 19s 260ms/step - loss: nan\n",
      "Epoch 8/100\n",
      "74/74 [==============================] - 19s 258ms/step - loss: nan\n",
      "Epoch 9/100\n",
      "74/74 [==============================] - 19s 262ms/step - loss: nan\n",
      "Epoch 10/100\n",
      "74/74 [==============================] - 19s 258ms/step - loss: nan\n",
      "Epoch 11/100\n",
      "74/74 [==============================] - 19s 261ms/step - loss: nan\n",
      "Epoch 12/100\n",
      "74/74 [==============================] - 19s 258ms/step - loss: nan\n",
      "Epoch 13/100\n",
      "74/74 [==============================] - 19s 259ms/step - loss: nan\n",
      "Epoch 14/100\n",
      "52/74 [====================>.........] - ETA: 5s - loss: nan"
     ]
    }
   ],
   "source": [
    "# Compiling\n",
    "optimizer = keras.optimizers.Adam(lr=0.001)\n",
    "regressor.compile(optimizer = optimizer, loss = 'mean_squared_error')\n",
    "\n",
    "# 進行訓練\n",
    "regressor.fit(X_train, y_train, epochs = 100, batch_size = 16)"
   ]
  },
  {
   "cell_type": "markdown",
   "id": "baaaded1",
   "metadata": {},
   "source": [
    "# 預測步驟"
   ]
  },
  {
   "cell_type": "markdown",
   "id": "704434d8",
   "metadata": {},
   "source": [
    "取測試集中 2019 年的股票資料（真實）"
   ]
  },
  {
   "cell_type": "code",
   "execution_count": null,
   "id": "5f2c05c3",
   "metadata": {},
   "outputs": [],
   "source": [
    "dataset_test = pd.read_csv('台指數/台灣加權指數2019-2020.csv', usecols=[4], engine='python')\n",
    "dataset_test.values"
   ]
  },
  {
   "cell_type": "code",
   "execution_count": null,
   "id": "559a3952",
   "metadata": {},
   "outputs": [],
   "source": [
    "dataset_test = pd.read_csv('台指數/台灣加權指數2019-2020.csv')\n",
    "#real_stock_price = dataset_test.iloc[:, 4:5].values\n",
    "real_stock_price = dataset_test.iloc[:, 1:2].values"
   ]
  },
  {
   "cell_type": "markdown",
   "id": "8aa739c5",
   "metadata": {},
   "source": [
    "取模型所預測的 2019 年股票資料（預測）"
   ]
  },
  {
   "cell_type": "code",
   "execution_count": null,
   "id": "35178ab4",
   "metadata": {},
   "outputs": [],
   "source": [
    "dataset_total = pd.concat((dataset_train['Close'], dataset_test['Close']), axis = 0)\n",
    "inputs = dataset_total[len(dataset_total) - len(dataset_test) - 60:].values\n",
    "inputs = inputs.reshape(-1,1)\n",
    "inputs = sc.transform(inputs) # Feature Scaling\n",
    "\n",
    "X_test = []\n",
    "for i in range(60, 80):  # timesteps一樣60； 80 = 先前的60天資料+2017年的20天資料\n",
    "    X_test.append(inputs[i-60:i, 0])\n",
    "X_test = np.array(X_test)\n",
    "X_test = np.reshape(X_test, (X_test.shape[0], X_test.shape[1], 1))  # Reshape 成 3-dimension"
   ]
  },
  {
   "cell_type": "markdown",
   "id": "83483745",
   "metadata": {},
   "source": [
    "start predict"
   ]
  },
  {
   "cell_type": "code",
   "execution_count": null,
   "id": "3c2eedeb",
   "metadata": {},
   "outputs": [],
   "source": [
    "predicted_stock_price = regressor.predict(X_test)\n",
    "predicted_stock_price = sc.inverse_transform(predicted_stock_price)  # to get the original scale"
   ]
  },
  {
   "cell_type": "code",
   "execution_count": null,
   "id": "8ee41ca1",
   "metadata": {},
   "outputs": [],
   "source": [
    "# Visualising the results\n",
    "plt.plot(real_stock_price, color = 'red', label = 'Real TSEC Stock Price')  # 紅線表示真實股價\n",
    "plt.plot(predicted_stock_price, color = 'blue', label = 'Predicted TSEC Stock Price')  # 藍線表示預測股價\n",
    "plt.title('TSEC Stock Price Prediction')\n",
    "plt.xlabel('Time')\n",
    "plt.ylabel('TSEC Stock Price')\n",
    "plt.legend()\n",
    "plt.show()"
   ]
  },
  {
   "cell_type": "code",
   "execution_count": null,
   "id": "7148733c",
   "metadata": {},
   "outputs": [],
   "source": []
  }
 ],
 "metadata": {
  "kernelspec": {
   "display_name": "tf23",
   "language": "python",
   "name": "tf23"
  },
  "language_info": {
   "codemirror_mode": {
    "name": "ipython",
    "version": 3
   },
   "file_extension": ".py",
   "mimetype": "text/x-python",
   "name": "python",
   "nbconvert_exporter": "python",
   "pygments_lexer": "ipython3",
   "version": "3.6.13"
  }
 },
 "nbformat": 4,
 "nbformat_minor": 5
}
